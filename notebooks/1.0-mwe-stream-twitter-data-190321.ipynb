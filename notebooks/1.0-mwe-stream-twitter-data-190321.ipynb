{
 "cells": [
  {
   "cell_type": "markdown",
   "metadata": {},
   "source": [
    "# Search Liver Cancer Cures\n",
    "# Stream twitter data into postgres database"
   ]
  },
  {
   "cell_type": "code",
   "execution_count": 113,
   "metadata": {},
   "outputs": [],
   "source": [
    "%matplotlib inline"
   ]
  },
  {
   "cell_type": "code",
   "execution_count": 120,
   "metadata": {},
   "outputs": [],
   "source": [
    "import tweepy\n",
    "import pandas as pd\n",
    "import os\n",
    "import json\n",
    "import requests\n",
    "import re\n",
    "import matplotlib.pyplot as plt\n",
    "\n",
    "from wordcloud import WordCloud"
   ]
  },
  {
   "cell_type": "markdown",
   "metadata": {},
   "source": [
    "### Authorize Twitter"
   ]
  },
  {
   "cell_type": "code",
   "execution_count": 6,
   "metadata": {},
   "outputs": [],
   "source": [
    "consumer_key = os.environ[\"MF_TWITTER_CONSUMER_API_KEY\"]\n",
    "consumer_secret = os.environ[\"MF_TWITTER_CONSUMER_API_KEY_SECRET\"]\n",
    "access_token = os.environ[\"MF_TWITTER_ACCESS_TOKEN\"]\n",
    "access_token_secret = os.environ[\"MF_TWITTER_ACCESS_TOKEN_SECRET\"]\n",
    "\n",
    "auth = tweepy.OAuthHandler(consumer_key, consumer_secret)\n",
    "auth.set_access_token(access_token, access_token_secret)\n",
    "api = tweepy.API(auth)"
   ]
  },
  {
   "cell_type": "markdown",
   "metadata": {},
   "source": [
    "### Query Search API"
   ]
  },
  {
   "cell_type": "code",
   "execution_count": 73,
   "metadata": {},
   "outputs": [],
   "source": [
    "query = 'liver cancer'\n",
    "max_tweets = 100\n",
    "r = [status for status in tweepy.Cursor(api.search, q=query, tweet_mode=\"extended\").items(max_tweets)]"
   ]
  },
  {
   "cell_type": "code",
   "execution_count": 99,
   "metadata": {},
   "outputs": [
    {
     "data": {
      "text/plain": [
       "['@JasonCrabbMusic Thankful that my cousin got an \"all clear\" report on the colon and liver cancer he had..that the doctors said was incurable..GOD IS GOOD!',\n",
       " 'My mom just told me one of my neighbors is going into hospice.  She was diagnosed last week with lung and liver cancer and now she only has a few weeks left to live.  I’m not that close to her but I don’t wanna believe it',\n",
       " '@AngelaDwane Thank you, Angéla! Unfortunately, the cancer has recurred, a tumor has been found in the lungs, liver and spleen! It would have been surgery tomorrow, but it was postponed for technical reasons...❤️😘',\n",
       " 'うーん、トマトですが、💦\\n\\nStudy finds that in mice, lycopene in tomatoes reduced fatty liver disease, inflammation and liver cancer https://t.co/W3ZM3M8fF7 via @medical_xpress',\n",
       " 'I have nothing but compassion for those cancer has touched. I watched my Mom slip away. I am afraid every day my cancer is floating around in my body looking for organs to attack. Brain, liver, bones, lungs. My cancer loves these organs.',\n",
       " \"@CNN People who drink alcohol everyday are ten times more likely to become alcoholics and develop liver disease.\\nPeople who smoke every day have a ten times greater chance of developing lung cancer than those who don't.\",\n",
       " 'NIR bulb saunas provide the deep heat penetration shown in studies to relieve liver and kidney congestion, rapidly shunting blood to the skin and improving detoxification in cancer patients.\\nhttps://t.co/WInRchtucU',\n",
       " \"in that case i have liver cancer.. and something about my kidneys and lungs also don't worry love i'm having a heart attack too, your not alone! https://t.co/YdSPKgrcpL\",\n",
       " 'Study Finds #cancer Drugs Can be Repurposed Beyond Known Uses: The drug sorafenib NexavarÂ typically used for kidney and liver #cancer treatment provided complete remission for breast #cancer patient after lab discoveries In an article published today by… https://t.co/eWGvzCasX0',\n",
       " 'The headline truly says it all. Brian Dooreck MD | Gastroenterology | GI &amp; Liver Diseases |  🖥 https://t.co/qrlRyHmlvW | @drdooreck https://t.co/sNYPyMHgzj',\n",
       " \"One of my mom's best friends going back to elementary school just passed, breast cancer that metastasized to her liver. Fuck cancer forever.\",\n",
       " '@LelenaPeacock That’s a shame I had a friend of mine die of liver cancer a couple of weeks ago palliative care was a joke with a pittance of terrible pain killers mostly extended relief it was so bad he said fuck it and opted for hospice, looked to me like they gave him no other choice.',\n",
       " 'Study Finds Cancer Drugs Can be Repurposed Beyond Known Uses: The drug sorafenib NexavarÂ typically used for kidney and liver cancer treatment provided complete remission for breast cancer patient after lab discoveries In an article published today by… https://t.co/YreMaD3ehm',\n",
       " 'An Unexpected Candidate in the Search for Liver Cancer Therapies https://t.co/mEFeUgxY7W',\n",
       " '@GroinDoily @jhgurf If liver cancer were a human being, it would be him.',\n",
       " \"Donations create stories of hope like this one. You can be a part of the Lane Thomas Foundation's life-saving work by participating in our Lanes for Lane event on May 9th! Learn more now at https://t.co/l5RdkjjCTm. https://t.co/9RLZac2QLs\",\n",
       " \"@sandyd68 Yes I didn't want to suggest it but the liver is often the place that bowel cancer patients get their first mets. Keep an eye on him as it may deteriorate quite quickly. That aside my dad also went a funny colour as the illness progressed so could just be natural progression\",\n",
       " 'Groundhogs have a 100% chance to develop liver cancer when infected with hepatitis B.',\n",
       " '@GoldrushRick My Mom is currently stage 4 liver cancer. I now understand what you went through.  I only hope I can handle things as well as you have. We still have hope but reality is a bitch. We quit our jobs and moved back to be near her. Much respect @GoldrushRick you are an inspiration',\n",
       " 'I dad was just diagnosed with stage 4 cancer in his liver. Prayers for my dad please. 💔🙏🏽',\n",
       " '@sk8lobster @LowCarbVet What do you see in practice?  Is there more insulin resistance in cats and dogs?  Does it work the same in birds?  (My rescue cockatiel died of liver cancer) Thanks in advance for your comments',\n",
       " 'Valsartan Linked to Cancer &amp; Liver Injuries https://t.co/3a6COksmLW',\n",
       " '@TheVeryBestBlog @tobosbunny My friend, only ate frozen meals and drank mountain dew, and sweet snacks, after meals, and smoked cigeretts, he died with cancer in his brain, lung and liver! Will never eat a frozen dinner again, no sugar, no smoking, no carbinated beverages, no cookies, no cake. Diet change',\n",
       " '@jenjentheDIVA What hurt the most, my mother had colon cancer and the doctors thought they got it out but there were a small portion was on her liver.. My dad was my mother caregiver, he work days and by my mother side at night until she passed away.',\n",
       " \"@Alyssa_Milano This. This right here will not fix anything. It's like trying to put a cast on a leg to treat liver cancer.  Useless..\",\n",
       " 'Asparagus, The Potent Anti Liver Cancer Functional Food, Scientists Say https://t.co/ndkFk8MvJR',\n",
       " 'Can an increased intake of whole grains help lower the risk of liver #cancer? https://t.co/8W2jrhQbuD #livercancer',\n",
       " 'https://t.co/KAC8Q4m8Nv',\n",
       " '@ClareMBrown1 @FreebieBean Absolutely.  Sadly my neighbour is dying of liver cancer.  Luckily he isn’t, at the moment, in pain.',\n",
       " 'Part 2\\nI am only 40 will be 41 on april 3rd and my disability money is not much. My 2 youngest get $40 months from my social security. If you can help with $1 in my paypal posted on my bio or my @gofundme please do\\nhttps://t.co/bY30H38Fcq',\n",
       " 'Will an Aspirin a Day Keep HBV-Related Liver Cancer Away? (CME/CE) https://t.co/2jM4OIJhqv',\n",
       " 'Stage 4 cancer now liver failure. I’m shocked. I don’t know how to act',\n",
       " 'Liquid Biopsy Spots Early Liver Cancer in Patients With HBV Infection\\nhttps://t.co/JZPu5kQAbi',\n",
       " 'Advanced Liver Cancer https://t.co/unqtXgM1hz via @YouTube',\n",
       " \"Let's have a look at ill effects of chemicals used in artificial colours: \\n  ▶ Copper sulfate causes blindness\\n  Lead oxide- liver disorders n hearing defects\\n  Aluminium bromide- Cancer\\n  Prussian blue - Skin diseases\\n  So Embrace #ThisHoli_VedicHoli \\n  https://t.co/yzTJRhteEH\",\n",
       " \"Let's have a look at ill effects of chemicals used in artificial colours: \\n  ▶ Copper sulfate causes blindness\\n  Lead oxide- liver disorders n hearing defects\\n  Aluminium bromide- Cancer\\n  Prussian blue - Skin diseases\\n  So Embrace #ThisHoli_VedicHoli \\n  https://t.co/UlKYCX8KYT\",\n",
       " \"Let's have a look at ill effects of chemicals used in artificial colours: \\n  ▶ Copper sulfate causes blindness\\n  Lead oxide- liver disorders n hearing defects\\n  Aluminium bromide- Cancer\\n  Prussian blue - Skin diseases\\n  So Embrace #ThisHoli_VedicHoli \\n  https://t.co/LBLbQxfT9o\",\n",
       " 'Noni Juice Benefits: Able to Combat Liver Cancer, Lung Cancer &amp; More https://t.co/T0DAelM25F',\n",
       " '@DickieV I listened to your interview this morning on the Golic and Wingo. What was said to you by those fans was just wrong. You are a wonderful human being. I’m thankful for what you do for cancer research. I got diagnosed with liver cancer last year, it’s awesome what you do',\n",
       " '@DickieV I listened to your interview this morning on Golic and Wingo. What those LSU fans said was just wrong. I look up to you with all you do for the v foundation. I got diagnosed with liver cancer last year. It makes me feel thankful that you do what you do for research.',\n",
       " 'I’m really sitting here thinking about my mom and my grandfather really has liver cancer....it’s only been 3 years since my grandma passed. But I’m gonna be strong and continue to live my life as positive as possible',\n",
       " '@carlibybel watched your new vid. Sending ur dad so much love and light! My dad unfortunately passed from liver/colon cancer but they caught it so late. This won’t happen to yours 💜 It’s tough on everyone but you’ll all get thru it together!',\n",
       " '@ArutzSheva_En If you smoke cigarettes every day you have a good chance of getting lung cancer! If you drink alcohol every day you can destroy your liver! If you eat burgers every day you can become obese! We all know the dangers..\\nLEGALIZE RECREATIONAL CANNABIS']"
      ]
     },
     "execution_count": 99,
     "metadata": {},
     "output_type": "execute_result"
    }
   ],
   "source": [
    "statuses = [status._json['full_text'] for status in r if 'retweeted_status' not in status._json]\n",
    "statuses"
   ]
  },
  {
   "cell_type": "code",
   "execution_count": 109,
   "metadata": {},
   "outputs": [],
   "source": [
    "def format_status_list(status_list):\n",
    "    status_list = [re.sub('RT @.+: ', '', status) for status in status_list]\n",
    "    status_list = [re.sub('\\n', ' ', status) for status in status_list]\n",
    "    status_list = [re.sub('https?://[^ ]+', '', status) for status in status_list] # remove links\n",
    "    status_list = [re.sub('@\\w+', '', status) for status in status_list] # remove @\n",
    "    return status_list\n",
    "\n",
    "def filter_http(tokens):\n",
    "    tokens = [word for word in tokens if re.match(r'https?.+', word) == None]\n",
    "    tokens = [word for word in tokens if re.match(r'.+https?.+', word) == None]\n",
    "    tokens = [word for word in tokens if re.match(r'.+twitter.+', word) == None]\n",
    "    return tokens\n",
    "\n",
    "def tokenize(status_list):\n",
    "    tokens = ','.join(status_list)\n",
    "    tokens = tokens.replace(\"'\", '')\n",
    "    tokens = tokens.lower()\n",
    "    \n",
    "    return tokens"
   ]
  },
  {
   "cell_type": "code",
   "execution_count": 100,
   "metadata": {},
   "outputs": [
    {
     "data": {
      "text/plain": [
       "[' Thankful that my cousin got an \"all clear\" report on the colon and liver cancer he had..that the doctors said was incurable..GOD IS GOOD!',\n",
       " 'My mom just told me one of my neighbors is going into hospice.  She was diagnosed last week with lung and liver cancer and now she only has a few weeks left to live.  I’m not that close to her but I don’t wanna believe it',\n",
       " ' Thank you, Angéla! Unfortunately, the cancer has recurred, a tumor has been found in the lungs, liver and spleen! It would have been surgery tomorrow, but it was postponed for technical reasons...❤️😘',\n",
       " 'うーん、トマトですが、💦  Study finds that in mice, lycopene in tomatoes reduced fatty liver disease, inflammation and liver cancer  via ',\n",
       " 'I have nothing but compassion for those cancer has touched. I watched my Mom slip away. I am afraid every day my cancer is floating around in my body looking for organs to attack. Brain, liver, bones, lungs. My cancer loves these organs.',\n",
       " \" People who drink alcohol everyday are ten times more likely to become alcoholics and develop liver disease. People who smoke every day have a ten times greater chance of developing lung cancer than those who don't.\",\n",
       " 'NIR bulb saunas provide the deep heat penetration shown in studies to relieve liver and kidney congestion, rapidly shunting blood to the skin and improving detoxification in cancer patients. ',\n",
       " \"in that case i have liver cancer.. and something about my kidneys and lungs also don't worry love i'm having a heart attack too, your not alone! \",\n",
       " 'Study Finds #cancer Drugs Can be Repurposed Beyond Known Uses: The drug sorafenib NexavarÂ typically used for kidney and liver #cancer treatment provided complete remission for breast #cancer patient after lab discoveries In an article published today by… ',\n",
       " 'The headline truly says it all. Brian Dooreck MD | Gastroenterology | GI &amp; Liver Diseases |  🖥  |  ',\n",
       " \"One of my mom's best friends going back to elementary school just passed, breast cancer that metastasized to her liver. Fuck cancer forever.\",\n",
       " ' That’s a shame I had a friend of mine die of liver cancer a couple of weeks ago palliative care was a joke with a pittance of terrible pain killers mostly extended relief it was so bad he said fuck it and opted for hospice, looked to me like they gave him no other choice.',\n",
       " 'Study Finds Cancer Drugs Can be Repurposed Beyond Known Uses: The drug sorafenib NexavarÂ typically used for kidney and liver cancer treatment provided complete remission for breast cancer patient after lab discoveries In an article published today by… ',\n",
       " 'An Unexpected Candidate in the Search for Liver Cancer Therapies ',\n",
       " '  If liver cancer were a human being, it would be him.',\n",
       " \"Donations create stories of hope like this one. You can be a part of the Lane Thomas Foundation's life-saving work by participating in our Lanes for Lane event on May 9th! Learn more now at  \",\n",
       " \" Yes I didn't want to suggest it but the liver is often the place that bowel cancer patients get their first mets. Keep an eye on him as it may deteriorate quite quickly. That aside my dad also went a funny colour as the illness progressed so could just be natural progression\",\n",
       " 'Groundhogs have a 100% chance to develop liver cancer when infected with hepatitis B.',\n",
       " ' My Mom is currently stage 4 liver cancer. I now understand what you went through.  I only hope I can handle things as well as you have. We still have hope but reality is a bitch. We quit our jobs and moved back to be near her. Much respect  you are an inspiration',\n",
       " 'I dad was just diagnosed with stage 4 cancer in his liver. Prayers for my dad please. 💔🙏🏽',\n",
       " '  What do you see in practice?  Is there more insulin resistance in cats and dogs?  Does it work the same in birds?  (My rescue cockatiel died of liver cancer) Thanks in advance for your comments',\n",
       " 'Valsartan Linked to Cancer &amp; Liver Injuries ',\n",
       " '  My friend, only ate frozen meals and drank mountain dew, and sweet snacks, after meals, and smoked cigeretts, he died with cancer in his brain, lung and liver! Will never eat a frozen dinner again, no sugar, no smoking, no carbinated beverages, no cookies, no cake. Diet change',\n",
       " ' What hurt the most, my mother had colon cancer and the doctors thought they got it out but there were a small portion was on her liver.. My dad was my mother caregiver, he work days and by my mother side at night until she passed away.',\n",
       " \" This. This right here will not fix anything. It's like trying to put a cast on a leg to treat liver cancer.  Useless..\",\n",
       " 'Asparagus, The Potent Anti Liver Cancer Functional Food, Scientists Say ',\n",
       " 'Can an increased intake of whole grains help lower the risk of liver #cancer?  #livercancer',\n",
       " '',\n",
       " '  Absolutely.  Sadly my neighbour is dying of liver cancer.  Luckily he isn’t, at the moment, in pain.',\n",
       " 'Part 2 I am only 40 will be 41 on april 3rd and my disability money is not much. My 2 youngest get $40 months from my social security. If you can help with $1 in my paypal posted on my bio or my  please do ',\n",
       " 'Will an Aspirin a Day Keep HBV-Related Liver Cancer Away? (CME/CE) ',\n",
       " 'Stage 4 cancer now liver failure. I’m shocked. I don’t know how to act',\n",
       " 'Liquid Biopsy Spots Early Liver Cancer in Patients With HBV Infection ',\n",
       " 'Advanced Liver Cancer  via ',\n",
       " \"Let's have a look at ill effects of chemicals used in artificial colours:    ▶ Copper sulfate causes blindness   Lead oxide- liver disorders n hearing defects   Aluminium bromide- Cancer   Prussian blue - Skin diseases   So Embrace #ThisHoli_VedicHoli    \",\n",
       " \"Let's have a look at ill effects of chemicals used in artificial colours:    ▶ Copper sulfate causes blindness   Lead oxide- liver disorders n hearing defects   Aluminium bromide- Cancer   Prussian blue - Skin diseases   So Embrace #ThisHoli_VedicHoli    \",\n",
       " \"Let's have a look at ill effects of chemicals used in artificial colours:    ▶ Copper sulfate causes blindness   Lead oxide- liver disorders n hearing defects   Aluminium bromide- Cancer   Prussian blue - Skin diseases   So Embrace #ThisHoli_VedicHoli    \",\n",
       " 'Noni Juice Benefits: Able to Combat Liver Cancer, Lung Cancer &amp; More ',\n",
       " ' I listened to your interview this morning on the Golic and Wingo. What was said to you by those fans was just wrong. You are a wonderful human being. I’m thankful for what you do for cancer research. I got diagnosed with liver cancer last year, it’s awesome what you do',\n",
       " ' I listened to your interview this morning on Golic and Wingo. What those LSU fans said was just wrong. I look up to you with all you do for the v foundation. I got diagnosed with liver cancer last year. It makes me feel thankful that you do what you do for research.',\n",
       " 'I’m really sitting here thinking about my mom and my grandfather really has liver cancer....it’s only been 3 years since my grandma passed. But I’m gonna be strong and continue to live my life as positive as possible',\n",
       " ' watched your new vid. Sending ur dad so much love and light! My dad unfortunately passed from liver/colon cancer but they caught it so late. This won’t happen to yours 💜 It’s tough on everyone but you’ll all get thru it together!',\n",
       " ' If you smoke cigarettes every day you have a good chance of getting lung cancer! If you drink alcohol every day you can destroy your liver! If you eat burgers every day you can become obese! We all know the dangers.. LEGALIZE RECREATIONAL CANNABIS']"
      ]
     },
     "execution_count": 100,
     "metadata": {},
     "output_type": "execute_result"
    }
   ],
   "source": [
    "# Format statuses\n",
    "statuses2 = format_status_list(statuses)\n",
    "statuses2"
   ]
  },
  {
   "cell_type": "code",
   "execution_count": 97,
   "metadata": {},
   "outputs": [],
   "source": [
    "# Create word cloud\n"
   ]
  },
  {
   "cell_type": "code",
   "execution_count": 118,
   "metadata": {},
   "outputs": [],
   "source": [
    "token_string = tokenize(statuses2)"
   ]
  },
  {
   "cell_type": "code",
   "execution_count": 123,
   "metadata": {},
   "outputs": [],
   "source": [
    "def generate_wordcloud_image(token_string):\n",
    "\n",
    "    wordcloud = WordCloud(width = 800, height = 800,\n",
    "                    background_color ='white',\n",
    "#                     stopwords = self.stopwords,\n",
    "                    min_font_size = 10).generate(token_string)\n",
    "\n",
    "    # Plot the WordCloud\n",
    "    plt.figure(figsize = (8, 8), facecolor = None)\n",
    "    plt.imshow(wordcloud)\n",
    "    plt.axis(\"off\")\n",
    "    plt.tight_layout(pad = 0)\n",
    "    plt.show();"
   ]
  },
  {
   "cell_type": "code",
   "execution_count": null,
   "metadata": {},
   "outputs": [],
   "source": [
    "# generate word clouds\n",
    "generate_wordcloud_image(token_string)"
   ]
  },
  {
   "cell_type": "markdown",
   "metadata": {},
   "source": [
    "### Data filtering\n",
    "\n",
    "We filter data to identify health tweets. Keyword filtering, which is used to obtain the data, is insufficient; e.g., “I'm sick of this” and “justin beber ur so cool and i have beber fever.” [8] Instead, we rely on supervised machine learning classification to filter tweets.\n",
    "\n",
    "We filtered tweets from 2009–2010 with 20,000 keyphrases and randomly annotated a subset of the remaining 11.7 million tweets using Amazon Mechanical Turk, a crowdsourcing service, [30]–[31] to distinguish relevant health tweets from spurious matches. Workers annotated examples as positive (about the user’s health), negative (unrelated, e.g. news updates or advertisements, or not English), or ambiguous. To ensure quality, we annotated a sample ourselves and required workers to annotate some of these “gold” tweets, which allowed us to check annotator accuracy and exclude inaccurate workers. Second, each tweet was labeled by three annotators and the final label was determined by majority vote, removing the 1.1% of examples where the majority vote was ambiguous.\n",
    "\n",
    "This yielded a set of 5,128 tweets (36.1% positive) for training data to create a classifier for health relevance. We trained a binary logistic regression model using the MALLET toolkit [32] with n-gram (1≤n≤3) word features. We tokenized the raw text such that contiguous blocks of punctuation were treated as word separators, with punctuation blocks retained as word tokens. We removed tweets containing URLs, which were almost always false positives.\n",
    "\n",
    "We tuned the prediction threshold using 10-fold cross validation to result in an estimated 68% precision and 72% recall, a balance of precision and recall. Applying this classifier to the health stream yielded 144 million health tweets, a nearly hundred-fold increase over our earlier study of 1.6 million tweets. [24]."
   ]
  },
  {
   "cell_type": "markdown",
   "metadata": {},
   "source": [
    "## Keywords and search terms for liver cancer"
   ]
  },
  {
   "cell_type": "code",
   "execution_count": null,
   "metadata": {},
   "outputs": [],
   "source": [
    "Hemangioma\n",
    "Hepatic adenoma\n",
    "Focal nodular hyperplasia\n",
    "Cysts\n",
    "Lipoma\n",
    "Fibroma\n",
    "Leiomyoma\n",
    "Hepatocellular carcinoma (HCC)\n",
    "Cholangiocarcinoma\n",
    "Primary liver cancer (hepatocellular carcinoma) tends to occur in livers damaged by birth defects, alcohol abuse, or chronic infection with diseases such as hepatitis B and C, hemochromatosis (a hereditary disease associated with too much iron in the liver), and cirrhosis. More than half of all people diagnosed with primary liver cancer have cirrhosis -- a scarring condition of the liver commonly caused by alcohol abuse. Hepatitis B and C and hemochromatosis can cause permanent damage and liver failure. Liver cancer may also be linked to obesity and fatty liver disease.\n",
    "\n",
    "Various cancer-causing substances are associated with primary liver cancer, including certain herbicides and chemicals such as vinyl chloride and arsenic. Smoking, especially if you abuse alcohol as well, also increases risk. Aflatoxins, cancer-causing substances made by a type of plant mold, have also been implicated. Aflatoxins can contaminate wheat, peanuts, rice, corn, and soybeans. These are rare problems in most developed countries like the U.S. Other causes include the hormones androgen and estrogen and a dye formerly used in medical tests called thorotrast."
   ]
  }
 ],
 "metadata": {
  "kernelspec": {
   "display_name": "Python (medfact)",
   "language": "python",
   "name": "med-fact"
  },
  "language_info": {
   "codemirror_mode": {
    "name": "ipython",
    "version": 3
   },
   "file_extension": ".py",
   "mimetype": "text/x-python",
   "name": "python",
   "nbconvert_exporter": "python",
   "pygments_lexer": "ipython3",
   "version": "3.6.7"
  }
 },
 "nbformat": 4,
 "nbformat_minor": 2
}
